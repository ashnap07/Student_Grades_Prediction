{
 "cells": [
  {
   "cell_type": "code",
   "execution_count": 7,
   "id": "317f6da2",
   "metadata": {},
   "outputs": [],
   "source": [
    "import numpy as np\n",
    "import pandas as pd\n",
    "import matplotlib.pyplot as plt\n",
    "from sklearn.model_selection import train_test_split\n",
    "from sklearn.metrics import classification_report, confusion_matrix,plot_confusion_matrix\n",
    "from sklearn import tree\n",
    "from sklearn import metrics\n",
    "import sklearn.ensemble\n",
    "from sklearn import preprocessing"
   ]
  },
  {
   "cell_type": "code",
   "execution_count": 8,
   "id": "e940ab50",
   "metadata": {},
   "outputs": [],
   "source": [
    "df=pd.read_csv(\"xAPI-Edu-Data.csv\")"
   ]
  },
  {
   "cell_type": "code",
   "execution_count": 9,
   "id": "c5adee80",
   "metadata": {},
   "outputs": [
    {
     "name": "stdout",
     "output_type": "stream",
     "text": [
      "<class 'pandas.core.frame.DataFrame'>\n",
      "RangeIndex: 480 entries, 0 to 479\n",
      "Data columns (total 17 columns):\n",
      " #   Column                    Non-Null Count  Dtype \n",
      "---  ------                    --------------  ----- \n",
      " 0   gender                    480 non-null    object\n",
      " 1   NationalITy               480 non-null    object\n",
      " 2   PlaceofBirth              480 non-null    object\n",
      " 3   StageID                   480 non-null    object\n",
      " 4   GradeID                   480 non-null    object\n",
      " 5   SectionID                 480 non-null    object\n",
      " 6   Topic                     480 non-null    object\n",
      " 7   Semester                  480 non-null    object\n",
      " 8   Relation                  480 non-null    object\n",
      " 9   raisedhands               480 non-null    int64 \n",
      " 10  VisITedResources          480 non-null    int64 \n",
      " 11  AnnouncementsView         480 non-null    int64 \n",
      " 12  Discussion                480 non-null    int64 \n",
      " 13  ParentAnsweringSurvey     480 non-null    object\n",
      " 14  ParentschoolSatisfaction  480 non-null    object\n",
      " 15  StudentAbsenceDays        480 non-null    object\n",
      " 16  Class                     480 non-null    object\n",
      "dtypes: int64(4), object(13)\n",
      "memory usage: 63.9+ KB\n"
     ]
    }
   ],
   "source": [
    "df.head()\n",
    "df.info()"
   ]
  },
  {
   "cell_type": "code",
   "execution_count": 10,
   "id": "c6160b59",
   "metadata": {},
   "outputs": [],
   "source": [
    "prele = preprocessing.LabelEncoder()\n",
    "cols = [col for col in df.columns if df[col].dtype==\"O\"]\n",
    "for i in cols:\n",
    "    df[i] = prele.fit_transform(df[i])"
   ]
  },
  {
   "cell_type": "code",
   "execution_count": 11,
   "id": "9c8ff744",
   "metadata": {},
   "outputs": [
    {
     "name": "stdout",
     "output_type": "stream",
     "text": [
      "<class 'pandas.core.frame.DataFrame'>\n",
      "RangeIndex: 480 entries, 0 to 479\n",
      "Data columns (total 17 columns):\n",
      " #   Column                    Non-Null Count  Dtype\n",
      "---  ------                    --------------  -----\n",
      " 0   gender                    480 non-null    int32\n",
      " 1   NationalITy               480 non-null    int32\n",
      " 2   PlaceofBirth              480 non-null    int32\n",
      " 3   StageID                   480 non-null    int32\n",
      " 4   GradeID                   480 non-null    int32\n",
      " 5   SectionID                 480 non-null    int32\n",
      " 6   Topic                     480 non-null    int32\n",
      " 7   Semester                  480 non-null    int32\n",
      " 8   Relation                  480 non-null    int32\n",
      " 9   raisedhands               480 non-null    int64\n",
      " 10  VisITedResources          480 non-null    int64\n",
      " 11  AnnouncementsView         480 non-null    int64\n",
      " 12  Discussion                480 non-null    int64\n",
      " 13  ParentAnsweringSurvey     480 non-null    int32\n",
      " 14  ParentschoolSatisfaction  480 non-null    int32\n",
      " 15  StudentAbsenceDays        480 non-null    int32\n",
      " 16  Class                     480 non-null    int32\n",
      "dtypes: int32(13), int64(4)\n",
      "memory usage: 39.5 KB\n"
     ]
    }
   ],
   "source": [
    "df.info()"
   ]
  },
  {
   "cell_type": "code",
   "execution_count": 12,
   "id": "cb1dc469",
   "metadata": {},
   "outputs": [],
   "source": [
    "X=df.iloc[:, 0:16].values\n"
   ]
  },
  {
   "cell_type": "code",
   "execution_count": 13,
   "id": "3a4eb2a4",
   "metadata": {},
   "outputs": [],
   "source": [
    "y=df.iloc[:, 16].values\n"
   ]
  },
  {
   "cell_type": "code",
   "execution_count": 14,
   "id": "1832ffd1",
   "metadata": {},
   "outputs": [],
   "source": [
    "from sklearn.model_selection import train_test_split\n",
    "X_train, X_test, y_train, y_test = train_test_split(X, y, test_size=0.2, random_state=22)\n",
    "\n"
   ]
  },
  {
   "cell_type": "code",
   "execution_count": null,
   "id": "d8888faf",
   "metadata": {},
   "outputs": [],
   "source": [
    "rf=sklearn.ensemble.RandomForestClassifier( n_estimators= 150,random_state=10)\n",
    "rf = rf.fit(X_train, y_train)\n",
    "y_pred = rf.predict(X_test)\n",
    "accuracy = metrics.accuracy_score(y_pred, y_test) * 100\n",
    "print(accuracy)"
   ]
  },
  {
   "cell_type": "code",
   "execution_count": null,
   "id": "f290af45",
   "metadata": {},
   "outputs": [],
   "source": [
    "print(sklearn.metrics.f1_score(y_test, y_pred,average='weighted'))\n",
    "#None, 'micro', 'macro', 'weighted'"
   ]
  },
  {
   "cell_type": "code",
   "execution_count": null,
   "id": "ce4c7cd3",
   "metadata": {},
   "outputs": [],
   "source": [
    "print(classification_report(y_test, y_pred))\n"
   ]
  },
  {
   "cell_type": "code",
   "execution_count": null,
   "id": "6f098163",
   "metadata": {},
   "outputs": [],
   "source": []
  }
 ],
 "metadata": {
  "kernelspec": {
   "display_name": "Python 3 (ipykernel)",
   "language": "python",
   "name": "python3"
  },
  "language_info": {
   "codemirror_mode": {
    "name": "ipython",
    "version": 3
   },
   "file_extension": ".py",
   "mimetype": "text/x-python",
   "name": "python",
   "nbconvert_exporter": "python",
   "pygments_lexer": "ipython3",
   "version": "3.9.12"
  }
 },
 "nbformat": 4,
 "nbformat_minor": 5
}
